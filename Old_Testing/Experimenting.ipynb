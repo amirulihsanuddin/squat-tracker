{
 "cells": [
  {
   "cell_type": "code",
   "execution_count": 25,
   "id": "f611e837-8151-434e-be14-98e535fc1612",
   "metadata": {},
   "outputs": [],
   "source": [
    "import pandas as pd\n",
    "import matplotlib.pyplot as plt\n",
    "from sklearn.model_selection import train_test_split\n",
    "from sklearn.ensemble import RandomForestClassifier\n",
    "from sklearn.tree import DecisionTreeClassifier\n",
    "from sklearn.svm import SVC\n",
    "from sklearn.neural_network import MLPClassifier\n",
    "from sklearn.metrics import accuracy_score, precision_score, recall_score, f1_score, mean_squared_error\n",
    "import tensorflow as tf\n",
    "import pickle"
   ]
  },
  {
   "cell_type": "code",
   "execution_count": 78,
   "id": "17ca71e7-24b6-466a-8119-e2c33da50aa7",
   "metadata": {},
   "outputs": [
    {
     "name": "stderr",
     "output_type": "stream",
     "text": [
      "C:\\Users\\eddcr\\anaconda3\\lib\\site-packages\\sklearn\\neural_network\\_multilayer_perceptron.py:692: ConvergenceWarning: Stochastic Optimizer: Maximum iterations (50) reached and the optimization hasn't converged yet.\n",
      "  warnings.warn(\n"
     ]
    },
    {
     "data": {
      "image/png": "[encoded data removed]",
      "text/plain": [
       "<Figure size 800x100 with 1 Axes>"
      ]
     },
     "metadata": {},
     "output_type": "display_data"
    }
   ],
   "source": [
    "# Load landmark data from CSV\n",
    "df = pd.read_csv('coords-full.csv')\n",
    "\n",
    "# Assuming your CSV has columns for coordinates and labels\n",
    "landmarks = df.drop(columns=['class']).values\n",
    "labels = df['class'].values\n",
    "\n",
    "accuracy_values = []\n",
    "\n",
    "# Define parameters\n",
    "epochs = 10\n",
    "\n",
    "# Data splitting\n",
    "landmarks_train, landmarks_test, labels_train, labels_test = train_test_split(\n",
    "    landmarks, labels, test_size=0.3, random_state=42\n",
    ")\n",
    "\n",
    "# Random Forest\n",
    "rf_model = RandomForestClassifier()\n",
    "rf_model.fit(landmarks_train, labels_train)\n",
    "rf_predictions = rf_model.predict(landmarks_test)\n",
    "\n",
    "# Decision Tree\n",
    "dt_model = DecisionTreeClassifier()\n",
    "dt_model.fit(landmarks_train, labels_train)\n",
    "dt_predictions = dt_model.predict(landmarks_test)\n",
    "\n",
    "# Support Vector Machine (SVM)\n",
    "svm_model = SVC(kernel='linear', C=1.0, decision_function_shape='ovr', probability=True)\n",
    "svm_model.fit(landmarks_train, labels_train)\n",
    "svm_predictions = svm_model.predict(landmarks_test)\n",
    "\n",
    "# Multilayer Perceptron (MLP) using scikit-learn\n",
    "mlp_model = MLPClassifier(hidden_layer_sizes=(256, 128), max_iter=epochs)\n",
    "mlp_model.fit(landmarks_train, labels_train)\n",
    "mlp_predictions = mlp_model.predict(landmarks_test)\n",
    "\n",
    "# Evaluate the Random Forest model\n",
    "rf_accuracy = accuracy_score(labels_test, rf_predictions)\n",
    "rf_precision = precision_score(labels_test, rf_predictions, average='weighted')\n",
    "rf_recall = recall_score(labels_test, rf_predictions, average='weighted')\n",
    "rf_f1 = f1_score(labels_test, rf_predictions, average='weighted')\n",
    "\n",
    "# Evaluate the Decision Tree model\n",
    "dt_accuracy = accuracy_score(labels_test, dt_predictions)\n",
    "dt_precision = precision_score(labels_test, dt_predictions, average='weighted')\n",
    "dt_recall = recall_score(labels_test, dt_predictions, average='weighted')\n",
    "dt_f1 = f1_score(labels_test, dt_predictions, average='weighted')\n",
    "\n",
    "# Evaluate the SVM model\n",
    "svm_accuracy = accuracy_score(labels_test, svm_predictions)\n",
    "svm_precision = precision_score(labels_test, svm_predictions, average='weighted')\n",
    "svm_recall = recall_score(labels_test, svm_predictions, average='weighted')\n",
    "svm_f1 = f1_score(labels_test, svm_predictions, average='weighted')\n",
    "\n",
    "# Evaluate the MLP model\n",
    "mlp_accuracy = accuracy_score(labels_test, mlp_predictions)\n",
    "mlp_precision = precision_score(labels_test, mlp_predictions, average='weighted')\n",
    "mlp_recall = recall_score(labels_test, mlp_predictions, average='weighted')\n",
    "mlp_f1 = f1_score(labels_test, mlp_predictions, average='weighted')\n",
    "\n",
    "rf_accuracy = round(rf_accuracy, 5)\n",
    "rf_precision = round(rf_precision, 5)\n",
    "rf_recall = round(rf_recall, 5)\n",
    "rf_f1 = round(rf_f1, 5)\n",
    "\n",
    "dt_accuracy = round(dt_accuracy, 5)\n",
    "dt_precision = round(dt_precision, 5)\n",
    "dt_recall = round(dt_recall, 5)\n",
    "dt_f1 = round(dt_f1, 5)\n",
    "\n",
    "svm_accuracy = round(svm_accuracy, 5)\n",
    "svm_precision = round(svm_precision, 5)\n",
    "svm_recall = round(svm_recall, 5)\n",
    "svm_f1 = round(svm_f1, 5)\n",
    "\n",
    "mlp_accuracy = round(mlp_accuracy, 5)\n",
    "mlp_precision = round(mlp_precision, 5)\n",
    "mlp_recall = round(mlp_recall, 5)\n",
    "mlp_f1 = round(mlp_f1, 5)\n",
    "\n",
    "# Create a DataFrame for better formatting\n",
    "table_data = [\n",
    "    [\"Random Forest\", rf_accuracy, rf_precision, rf_recall, rf_f1],\n",
    "    [\"Decision Tree\", dt_accuracy, dt_precision, dt_recall, dt_f1],\n",
    "    [\"SVM\", svm_accuracy, svm_precision, svm_recall, svm_f1],\n",
    "    [\"MLP\", mlp_accuracy, mlp_precision, mlp_recall, mlp_f1]\n",
    "]\n",
    "\n",
    "df_table = pd.DataFrame(table_data, columns=[\"Model\", \"Accuracy\", \"Precision\", \"Recall\", \"F1 Score\"])\n",
    "\n",
    "# Plot table and save as an image\n",
    "fig, ax = plt.subplots(figsize=(8, 1))\n",
    "ax.axis('off')\n",
    "ax.table(cellText=df_table.values, colLabels=df_table.columns, cellLoc='center', loc='center')\n",
    "\n",
    "plt.show()\n"
   ]
  },
  {
   "cell_type": "code",
   "execution_count": 73,
   "id": "f6e25a6e-2f60-4af5-86fc-28d5a9dd3cf5",
   "metadata": {},
   "outputs": [
    {
     "data": {
      "text/plain": [
       "[['Random Forest', 0.99772, 0.99773, 0.99772, 0.99771],\n",
       " ['Decision Tree', 0.98633, 0.98642, 0.98633, 0.98637],\n",
       " ['SVM', 0.9738, 0.97386, 0.9738, 0.97344],\n",
       " ['MLP', 0.98747, 0.98748, 0.98747, 0.9874]]"
      ]
     },
     "execution_count": 73,
     "metadata": {},
     "output_type": "execute_result"
    }
   ],
   "source": [
    "table_data"
   ]
  },
  {
   "cell_type": "code",
   "execution_count": 79,
   "id": "4c677470-6124-47d1-be88-9db063af8582",
   "metadata": {},
   "outputs": [],
   "source": [
    "with open('18amodel.pkl', 'wb') as file:\n",
    "    pickle.dump(rf_model, file)"
   ]
  },
  {
   "cell_type": "code",
   "execution_count": null,
   "id": "e8eec446-da21-4480-a7fb-252a03cd1ed6",
   "metadata": {},
   "outputs": [],
   "source": [
    "with open('rf_model.pkl', 'rb') as file:\n",
    "    loaded_rf_model = pickle.load(file)"
   ]
  }
 ],
 "metadata": {
  "kernelspec": {
   "display_name": "Python 3 (ipykernel)",
   "language": "python",
   "name": "python3"
  },
  "language_info": {
   "codemirror_mode": {
    "name": "ipython",
    "version": 3
   },
   "file_extension": ".py",
   "mimetype": "text/x-python",
   "name": "python",
   "nbconvert_exporter": "python",
   "pygments_lexer": "ipython3",
   "version": "3.9.13"
  }
 },
 "nbformat": 4,
 "nbformat_minor": 5
}

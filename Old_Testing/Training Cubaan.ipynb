{
 "cells": [
  {
   "cell_type": "markdown",
   "id": "45f60dc8-9f6b-4c48-935f-42f3e1d0f3df",
   "metadata": {
    "tags": []
   },
   "source": [
    "# Training"
   ]
  },
  {
   "cell_type": "code",
   "execution_count": null,
   "id": "01bd6e05-889c-4c14-9ed5-bdf72cd68069",
   "metadata": {},
   "outputs": [],
   "source": [
    "import pandas as pd\n",
    "from sklearn.model_selection import train_test_split"
   ]
  },
  {
   "cell_type": "code",
   "execution_count": null,
   "id": "c0b15c53-5e92-43b3-9e67-dd2631a56b2b",
   "metadata": {},
   "outputs": [],
   "source": [
    "df = pd.read_csv('coords-cleaned.csv')\n",
    "df.head()\n",
    "df.tail()\n",
    "df[df['class']== 'up']\n",
    "x = df.drop('class', axis = 1)\n",
    "y = df['class']\n",
    "\n",
    "x_train, x_test, y_train, y_test = train_test_split(x, y, test_size= 0.2, random_state = 50)\n",
    "\n",
    "y_test"
   ]
  },
  {
   "cell_type": "code",
   "execution_count": null,
   "id": "c3e329af-85b6-4387-9a8a-edc79292d06f",
   "metadata": {},
   "outputs": [],
   "source": [
    "from sklearn.pipeline import make_pipeline\n",
    "from sklearn.preprocessing import StandardScaler\n",
    "\n",
    "from sklearn.linear_model import LogisticRegression, RidgeClassifier\n",
    "from sklearn.ensemble import RandomForestClassifier, GradientBoostingClassifier"
   ]
  },
  {
   "cell_type": "code",
   "execution_count": null,
   "id": "bf9a8b94-f667-4dc7-9756-05e7fd817767",
   "metadata": {},
   "outputs": [],
   "source": [
    "pipelines = {\n",
    "    'lr':make_pipeline(StandardScaler(), LogisticRegression()),\n",
    "    'rc':make_pipeline(StandardScaler(), RidgeClassifier()),\n",
    "    'rf':make_pipeline(StandardScaler(), RandomForestClassifier()),\n",
    "    'gb':make_pipeline(StandardScaler(), GradientBoostingClassifier()),\n",
    "}"
   ]
  },
  {
   "cell_type": "code",
   "execution_count": null,
   "id": "f102d024-0f8e-48f4-a06e-0388c86ef88a",
   "metadata": {},
   "outputs": [],
   "source": [
    "fit_models = {}\n",
    "for algo, pipeline in pipelines.items():\n",
    "    model = pipeline.fit(x_train, y_train)\n",
    "    fit_models[algo] = model"
   ]
  },
  {
   "cell_type": "code",
   "execution_count": null,
   "id": "16d37d00-bb46-4a1b-b818-2d0f302a41c2",
   "metadata": {},
   "outputs": [],
   "source": [
    "fit_models"
   ]
  },
  {
   "cell_type": "code",
   "execution_count": null,
   "id": "9401e27a-e7d3-4dbc-964a-3ccf077b12e0",
   "metadata": {},
   "outputs": [],
   "source": [
    "fit_models['rc'].predict(x_test)"
   ]
  },
  {
   "cell_type": "markdown",
   "id": "3185ae65-fc57-44fd-b845-0d5c97277b74",
   "metadata": {
    "tags": []
   },
   "source": [
    "# Evaluate"
   ]
  },
  {
   "cell_type": "code",
   "execution_count": null,
   "id": "7dd1d7dc-a1f1-43e1-a721-6e740163f820",
   "metadata": {},
   "outputs": [],
   "source": [
    "from sklearn.metrics import accuracy_score, precision_score, recall_score\n",
    "import pickle"
   ]
  },
  {
   "cell_type": "code",
   "execution_count": null,
   "id": "6fe45884-5c86-4006-b8b5-96e7f3bb460a",
   "metadata": {},
   "outputs": [],
   "source": [
    "for algo, model in fit_models.items():\n",
    "    yhat = model.predict(x_test)\n",
    "    print(algo, accuracy_score(y_test.values, yhat), \n",
    "        precision_score(y_test.values, yhat, average = \"binary\", pos_label=\"down\"),\n",
    "        recall_score(y_test.values, yhat, average=\"binary\", pos_label=\"down\"))"
   ]
  },
  {
   "cell_type": "code",
   "execution_count": null,
   "id": "3ad37f2c-d87a-4abf-90b4-a46eb3a905be",
   "metadata": {},
   "outputs": [],
   "source": [
    "yhat = fit_models['rf'].predict(x_test)"
   ]
  },
  {
   "cell_type": "code",
   "execution_count": null,
   "id": "1d515cc1-f32b-4fb2-923e-246998dd8198",
   "metadata": {},
   "outputs": [],
   "source": [
    "with open('squat.pkl', 'wb') as f:\n",
    "    pickle.dump(fit_models['rf'], f)"
   ]
  }
 ],
 "metadata": {
  "kernelspec": {
   "display_name": "Python 3 (ipykernel)",
   "language": "python",
   "name": "python3"
  },
  "language_info": {
   "codemirror_mode": {
    "name": "ipython",
    "version": 3
   },
   "file_extension": ".py",
   "mimetype": "text/x-python",
   "name": "python",
   "nbconvert_exporter": "python",
   "pygments_lexer": "ipython3",
   "version": "3.9.13"
  }
 },
 "nbformat": 4,
 "nbformat_minor": 5
}

{
 "cells": [
  {
   "cell_type": "code",
   "execution_count": null,
   "id": "ad85831e-09cb-4e35-807a-31cd82f6556a",
   "metadata": {},
   "outputs": [],
   "source": [
    "import cv2\n",
    "import mediapipe as mp\n",
    "import numpy as np"
   ]
  },
  {
   "cell_type": "code",
   "execution_count": null,
   "id": "f66b6767-d5d2-4b52-aa07-554c74d7f96d",
   "metadata": {},
   "outputs": [],
   "source": [
    "mp_drawing = mp.solutions.drawing_utils\n",
    "mp_pose = mp.solutions.pose"
   ]
  },
  {
   "cell_type": "code",
   "execution_count": null,
   "id": "6acec6a0-053a-4f80-883e-6db51833430f",
   "metadata": {},
   "outputs": [],
   "source": [
    "import csv\n",
    "import os\n",
    "import numpy as np\n",
    "from matplotlib import pyplot as plt"
   ]
  },
  {
   "cell_type": "code",
   "execution_count": null,
   "id": "139e510a-d7c5-419c-8999-ab86b54c4438",
   "metadata": {},
   "outputs": [],
   "source": [
    "landmarks = ['class']\n",
    "for val in range(1, 33+1):\n",
    "    landmarks += ['x{}'.format(val), 'y{}'.format(val), 'z{}'.format(val), 'v{}'.format(val)]"
   ]
  },
  {
   "cell_type": "code",
   "execution_count": null,
   "id": "09f356a9-3d11-4fc1-bb00-25fa11675cb7",
   "metadata": {},
   "outputs": [],
   "source": [
    "with open('coords.csv', mode='w', newline='') as f:\n",
    "    csv_writer = csv.writer(f, delimiter=',', quotechar='\"', quoting=csv.QUOTE_MINIMAL)\n",
    "    csv_writer.writerow(landmarks)"
   ]
  },
  {
   "cell_type": "code",
   "execution_count": null,
   "id": "ed7aff46-d627-4cbc-9180-b22a9f171b71",
   "metadata": {},
   "outputs": [],
   "source": [
    "with open('coords_goodmorning.csv', mode='w', newline='') as f:\n",
    "    csv_writer = csv.writer(f, delimiter=',', quotechar='\"', quoting=csv.QUOTE_MINIMAL)\n",
    "    csv_writer.writerow(landmarks)"
   ]
  },
  {
   "cell_type": "code",
   "execution_count": null,
   "id": "795d4c4b-a3c0-4e0d-b040-ebabda2bfdf9",
   "metadata": {},
   "outputs": [],
   "source": [
    "def export_landmark(results, action):\n",
    "    try:\n",
    "        keypoints = np.array([[res.x, res.y, res.z, res.visibility] for res in results.pose_landmarks.landmark]).flatten().tolist()\n",
    "        keypoints.insert(0,action)\n",
    "        \n",
    "        print(\"Upload Succesfull\", action)\n",
    "        \n",
    "        with open('coords.csv', mode='a', newline='') as f:\n",
    "            csv_writer = csv.writer(f, delimiter=',', quotechar='\"', quoting=csv.QUOTE_MINIMAL)\n",
    "            csv_writer.writerow(keypoints)\n",
    "    except Exception as e:\n",
    "        print(\"Error:\", e)\n",
    "        pass\n"
   ]
  },
  {
   "cell_type": "code",
   "execution_count": null,
   "id": "f23bbe4a-54e7-4095-b1a1-97369b0b2d24",
   "metadata": {},
   "outputs": [],
   "source": [
    "def export_landmark(results, action):\n",
    "    try:\n",
    "        keypoints = np.array([[res.x, res.y, res.z, res.visibility] for res in results.pose_landmarks.landmark]).flatten().tolist()\n",
    "        keypoints.insert(0,action)\n",
    "        \n",
    "        print(\"Upload Succesfull\", action)\n",
    "        \n",
    "        with open('coords_goodmorning.csv', mode='a', newline='') as f:\n",
    "            csv_writer = csv.writer(f, delimiter=',', quotechar='\"', quoting=csv.QUOTE_MINIMAL)\n",
    "            csv_writer.writerow(keypoints)\n",
    "    except Exception as e:\n",
    "        print(\"Error:\", e)\n",
    "        pass\n"
   ]
  },
  {
   "cell_type": "markdown",
   "id": "decfe5c1-5344-4ef9-acd8-e6edd9e59ff4",
   "metadata": {},
   "source": [
    "# Labelling"
   ]
  },
  {
   "cell_type": "code",
   "execution_count": null,
   "id": "90a8c128-e73d-4787-b2ea-7053684ffb93",
   "metadata": {},
   "outputs": [],
   "source": [
    "with open('last_processed_index.pkl', 'rb') as file:\n",
    "    my_object = pickle.load(file)\n",
    "    print(my_object)"
   ]
  },
  {
   "cell_type": "code",
   "execution_count": null,
   "id": "4753cf28-9978-417a-8946-b726692199fc",
   "metadata": {},
   "outputs": [],
   "source": [
    "import os\n",
    "import pickle\n",
    "\n",
    "# Load or initialize the last processed video index\n",
    "last_processed_index_file = 'last_processed_index.pkl'\n",
    "if os.path.isfile(last_processed_index_file):\n",
    "    with open(last_processed_index_file, 'rb') as f:\n",
    "        last_processed_index = pickle.load(f)\n",
    "else:\n",
    "    last_processed_index = 0\n",
    "\n",
    "for x in range(last_processed_index + 1, 6):\n",
    "    video_path = r\"C:\\Users\\eddcr\\Downloads\\Wrong Squat\\good morning backlight\\squat ({}).mp4\".format(x)\n",
    "    \n",
    "    # Check if the video file exists before processing\n",
    "    if not os.path.isfile(video_path):\n",
    "        print(f\"Video file not found: {video_path}\")\n",
    "        continue\n",
    "\n",
    "    cap = cv2.VideoCapture(video_path)\n",
    "    pause = False  # Flag to indicate whether the video is paused\n",
    "\n",
    "    # initiate holistic model\n",
    "    with mp_pose.Pose(min_detection_confidence=0.5, min_tracking_confidence=0.5) as pose:\n",
    "        while cap.isOpened():\n",
    "            ret, frame = cap.read()\n",
    "\n",
    "            if not ret:\n",
    "                break\n",
    "\n",
    "            # Recolor image to RGB\n",
    "            image = cv2.cvtColor(frame, cv2.COLOR_BGR2RGB)\n",
    "            image.flags.writeable = False\n",
    "\n",
    "            # Make Detection\n",
    "            results = pose.process(image)\n",
    "\n",
    "            # Recolor image to BGR\n",
    "            image.flags.writeable = True\n",
    "            image = cv2.cvtColor(image, cv2.COLOR_RGB2BGR)\n",
    "\n",
    "            # Render detections\n",
    "            mp_drawing.draw_landmarks(image, results.pose_landmarks, mp_pose.POSE_CONNECTIONS)\n",
    "\n",
    "            # Add text overlay to show the currently playing video\n",
    "            cv2.putText(image, f\"Video: squat({x})\", (10, 30), cv2.FONT_HERSHEY_SIMPLEX, 0.7, (255, 255, 255), 2)\n",
    "            \n",
    "            k = cv2.waitKey(100)\n",
    "            if k == 117:  # press u to capture upwards position\n",
    "                export_landmark(results, 'up')\n",
    "            if k == 100:  # press d to capture downwards position\n",
    "                export_landmark(results, 'down')\n",
    "            if k == 112:  # press p to toggle pause/play\n",
    "                pause = not pause\n",
    "            if k == 27:  # press Esc key to exit\n",
    "                break\n",
    "            \n",
    "            if not pause:\n",
    "                display_image = cv2.resize(image, (640, 480))\n",
    "                cv2.imshow('Mediapipe Feed', display_image)\n",
    "                \n",
    "        cap.release()\n",
    "        cv2.destroyAllWindows()\n",
    "    # Save the last processed index\n",
    "    with open(last_processed_index_file, 'wb') as f:\n",
    "        pickle.dump(x, f)\n",
    "        \n",
    "    if cv2.waitKey(0) & 0xFF == ord('p'):\n",
    "            # If 'p' is pressed after a video, pause before proceeding to the next video\n",
    "            pause = True\n",
    "            \n",
    "    exit_choice = input(\"Press 'q' to quit or any other key to continue to the next video: \")\n",
    "    if exit_choice.lower() == 'q':\n",
    "        break"
   ]
  },
  {
   "cell_type": "markdown",
   "id": "1e3bc18c-b17d-40f7-b98e-5cd8a29db1f1",
   "metadata": {
    "tags": []
   },
   "source": [
    "# Training"
   ]
  },
  {
   "cell_type": "code",
   "execution_count": null,
   "id": "d8903b01-767f-49df-9c54-3fdcd2905cb5",
   "metadata": {},
   "outputs": [],
   "source": [
    "import pandas as pd\n",
    "from sklearn.model_selection import train_test_split\n",
    "\n",
    "from sklearn.model_selection import cross_val_score, KFold"
   ]
  },
  {
   "cell_type": "code",
   "execution_count": null,
   "id": "e42b84e2-8338-42f2-88db-0c00c8eead52",
   "metadata": {},
   "outputs": [],
   "source": [
    "df = pd.read_csv('coords.csv')\n",
    "x = df.drop('class', axis = 1)\n",
    "y = df['class']\n",
    "\n",
    "x_train, x_test, y_train, y_test = train_test_split(x, y, test_size= 0.3, random_state = 2)\n",
    "\n",
    "y_test"
   ]
  },
  {
   "cell_type": "code",
   "execution_count": null,
   "id": "dab1dca5-7c2a-4f0b-9810-dccb463f195c",
   "metadata": {},
   "outputs": [],
   "source": [
    "from sklearn.pipeline import make_pipeline\n",
    "from sklearn.preprocessing import StandardScaler\n",
    "\n",
    "from sklearn.svm import SVC\n",
    "from sklearn.linear_model import LogisticRegression, RidgeClassifier\n",
    "from sklearn.ensemble import RandomForestClassifier, GradientBoostingClassifier"
   ]
  },
  {
   "cell_type": "code",
   "execution_count": null,
   "id": "05ebbf33-905c-4af5-a6ee-06ed3c03ac09",
   "metadata": {},
   "outputs": [],
   "source": [
    "pipelines = {\n",
    "    'lr':make_pipeline(StandardScaler(), LogisticRegression()),\n",
    "    'rc':make_pipeline(StandardScaler(), RidgeClassifier()),\n",
    "    'rf':make_pipeline(StandardScaler(), RandomForestClassifier()),\n",
    "    'gb':make_pipeline(StandardScaler(), GradientBoostingClassifier()),\n",
    "    'svm': make_pipeline(StandardScaler(), SVC(kernel='linear', C=1.0))\n",
    "}"
   ]
  },
  {
   "cell_type": "code",
   "execution_count": null,
   "id": "a1879980-398a-4a04-9d8a-cba133f1a6dd",
   "metadata": {},
   "outputs": [],
   "source": [
    "from sklearn.multiclass import OneVsRestClassifier\n",
    "\n",
    "pipelines = {\n",
    "    'lr': make_pipeline(StandardScaler(), LogisticRegression(multi_class='ovr')),\n",
    "    'rc': make_pipeline(StandardScaler(), RidgeClassifier()),\n",
    "    'rf': make_pipeline(StandardScaler(), RandomForestClassifier())\n",
    "}\n"
   ]
  },
  {
   "cell_type": "code",
   "execution_count": null,
   "id": "c6342556-ca2d-451e-877d-184f8c02aa9e",
   "metadata": {},
   "outputs": [],
   "source": [
    "fit_models = {}\n",
    "for algo, pipeline in pipelines.items():\n",
    "    model = pipeline.fit(x_train, y_train)\n",
    "    fit_models[algo] = model"
   ]
  },
  {
   "cell_type": "code",
   "execution_count": null,
   "id": "f859e857-1b22-42a7-b390-c4ff39569e49",
   "metadata": {},
   "outputs": [],
   "source": [
    "# Specify the number of folds (e.g., 5-fold cross-validation)\n",
    "num_folds = 10\n",
    "kf = KFold(n_splits=num_folds, shuffle=True, random_state=42)\n",
    "\n",
    "# Loop through each model in the pipelines and perform cross-validation\n",
    "for algo, pipeline in pipelines.items():\n",
    "    scores = cross_val_score(pipeline, x_train, y_train, cv=kf, scoring='accuracy')\n",
    "    print(f'{algo} Cross-Validation Scores: {scores}')\n",
    "    print(f'{algo} Mean Accuracy: {scores.mean()}')\n",
    "    print()"
   ]
  },
  {
   "cell_type": "code",
   "execution_count": null,
   "id": "d2240389-067a-49dd-91f2-545e2f5da9f2",
   "metadata": {},
   "outputs": [],
   "source": [
    "fit_models"
   ]
  },
  {
   "cell_type": "code",
   "execution_count": null,
   "id": "2ec83de9-5c63-40d9-aa5d-4ce7c8ac2736",
   "metadata": {},
   "outputs": [],
   "source": [
    "fit_models['rf'].predict(x_test)"
   ]
  },
  {
   "cell_type": "markdown",
   "id": "3dfef201-5b51-4859-b78c-3f9736637e2c",
   "metadata": {
    "tags": []
   },
   "source": [
    "# Evaluate"
   ]
  },
  {
   "cell_type": "code",
   "execution_count": null,
   "id": "58c2e55e-0190-414c-a784-13cfae4ec613",
   "metadata": {},
   "outputs": [],
   "source": [
    "from sklearn.metrics import accuracy_score, precision_score, recall_score\n",
    "import pickle"
   ]
  },
  {
   "cell_type": "code",
   "execution_count": null,
   "id": "5eef949e-0f87-48ee-93dd-52670b604118",
   "metadata": {
    "scrolled": true,
    "tags": []
   },
   "outputs": [],
   "source": [
    "for algo, model in fit_models.items():\n",
    "    yhat = model.predict(x_test)\n",
    "    print(algo, accuracy_score(y_test.values, yhat), \n",
    "        precision_score(y_test.values, yhat, average = \"binary\", pos_label=\"down\"),\n",
    "        recall_score(y_test.values, yhat, average=\"binary\", pos_label=\"down\"))"
   ]
  },
  {
   "cell_type": "code",
   "execution_count": null,
   "id": "5800c20b-68f4-4a38-ac9a-5a9437427fb9",
   "metadata": {},
   "outputs": [],
   "source": [
    "for algo, model in fit_models.items():\n",
    "    yhat = model.predict(x_test)\n",
    "    print(algo, accuracy_score(y_test, yhat), \n",
    "          precision_score(y_test, yhat, average='weighted', labels=np.unique(yhat)),\n",
    "          recall_score(y_test, yhat, average='weighted', labels=np.unique(yhat)))"
   ]
  },
  {
   "cell_type": "code",
   "execution_count": null,
   "id": "c7171dc3-2545-4e69-8968-dacd608601a6",
   "metadata": {},
   "outputs": [],
   "source": [
    "yhat = fit_models['rf'].predict(x_test)"
   ]
  },
  {
   "cell_type": "code",
   "execution_count": null,
   "id": "0dd1375a-ba21-4437-8174-e055dff450e8",
   "metadata": {},
   "outputs": [],
   "source": [
    "with open('squattest.pkl', 'wb') as f:\n",
    "    pickle.dump(fit_models['rf'], f)"
   ]
  },
  {
   "cell_type": "markdown",
   "id": "0bb6e7db-1ea4-43db-b08a-b31056b9091a",
   "metadata": {},
   "source": [
    "# Detect Using Model"
   ]
  },
  {
   "cell_type": "code",
   "execution_count": null,
   "id": "abaf5cca-6940-4814-ac37-496f929ff291",
   "metadata": {},
   "outputs": [],
   "source": [
    "import pickle\n",
    "\n",
    "with open('squattest.pkl', 'rb') as f:\n",
    "    model = pickle.load(f)"
   ]
  },
  {
   "cell_type": "code",
   "execution_count": null,
   "id": "4ab5ab86-15a9-4277-95c0-7a9616a9deb2",
   "metadata": {},
   "outputs": [],
   "source": [
    "with open('squattest.pkl', 'rb') as file:\n",
    "    my_object = pickle.load(file)\n",
    "    print(my_object)"
   ]
  },
  {
   "cell_type": "code",
   "execution_count": null,
   "id": "da479839-e672-48bf-8c21-b2beb8202ae2",
   "metadata": {},
   "outputs": [],
   "source": [
    "import cv2\n",
    "\n",
    "for i in range(10):\n",
    "    cap = cv2.VideoCapture(i)\n",
    "    if cap.isOpened():\n",
    "        print(f\"Camera index {i} is working.\")\n",
    "        cap.set(3, 640)  # Width\n",
    "        cap.set(4, 480)  # Height\n",
    "        cap.release()\n",
    "    else:\n",
    "        print(f\"Camera index {i} is not working.\")\n"
   ]
  },
  {
   "cell_type": "code",
   "execution_count": null,
   "id": "44a65bce-9cc2-4d3c-9b96-04e32e9420d7",
   "metadata": {},
   "outputs": [],
   "source": [
    "cap = cv2.VideoCapture(0)\n",
    "counter = 0\n",
    "current_stage = ''\n",
    "\n",
    "with mp_pose.Pose(min_detection_confidence=0.5, min_tracking_confidence=0.5) as pose:\n",
    "    while cap.isOpened():\n",
    "        ret, frame = cap.read()\n",
    "        \n",
    "        #cap.set(3, 640)  # Width\n",
    "        #cap.set(4, 480)  # Height\n",
    "\n",
    "        #Recolor image to RGB\n",
    "        image = cv2.cvtColor(frame, cv2.COLOR_BGR2RGB)\n",
    "        image.flags.writeable = False\n",
    "        \n",
    "        #Make Detection\n",
    "        results = pose.process(image)\n",
    "\n",
    "        #Recolor image to BGR\n",
    "        image.flags.writeable = True\n",
    "        image = cv2.cvtColor(image,cv2.COLOR_RGB2BGR)\n",
    "        \n",
    "        #image = cv2.rotate(image, cv2.ROTATE_90_CLOCKWISE)\n",
    "       \n",
    "        #Render detections\n",
    "        mp_drawing.draw_landmarks(image, results.pose_landmarks, mp_pose.POSE_CONNECTIONS)\n",
    "        \n",
    "        try:\n",
    "            row = np.array([[res.x, res.y, res.z, res.visibility] for res in results.pose_landmarks.landmark]).flatten().tolist()\n",
    "            X = pd.DataFrame([row], columns=landmarks[1:])\n",
    "            body_language_class = model.predict(X)[0]\n",
    "            body_language_prob = model.predict_proba(X)[0]\n",
    "            print(body_language_class, body_language_prob)\n",
    "            \n",
    "            # counter\n",
    "            if body_language_class == 'up' and body_language_prob[body_language_prob.argmax()] >= .7:\n",
    "                current_stage = 'up'\n",
    "            elif current_stage == 'up' and body_language_class == 'down' and body_language_prob[body_language_prob.argmax()] >= .7:\n",
    "                current_stage=\"down\"\n",
    "                counter +=1\n",
    "                print(current_stage)\n",
    "            \n",
    "            \n",
    "            \n",
    "        except Exception as e:\n",
    "            print(\"Error\")\n",
    "            pass\n",
    "        \n",
    "        #Get status box\n",
    "        cv2.rectangle (image, (0,0), (250, 60), (245, 117, 16), -1)\n",
    "\n",
    "        #Display Class\n",
    "        cv2.putText(image, 'CLASS'\n",
    "                    , (95,12), cv2.FONT_HERSHEY_SIMPLEX, 0.5, (0,0,0), 1, cv2.LINE_AA)\n",
    "        cv2.putText(image, body_language_class.split(' ')[0]\n",
    "                    , (90,40), cv2.FONT_HERSHEY_SIMPLEX, 1,(255,255,255), 2, cv2.LINE_AA)\n",
    "\n",
    "        #display probability\n",
    "        cv2.putText(image, 'PROB'\n",
    "                    , (15,12), cv2.FONT_HERSHEY_SIMPLEX, 0.5, (0,0,0), 1, cv2.LINE_AA)\n",
    "        cv2.putText(image, str(round(body_language_prob[np.argmax(body_language_prob)],2))\n",
    "                    , (10,40), cv2.FONT_HERSHEY_SIMPLEX, 1,(255,255,255), 2, cv2.LINE_AA)\n",
    "\n",
    "        #display counter\n",
    "        cv2.putText(image, 'COUNT'\n",
    "                    , (180,12), cv2.FONT_HERSHEY_SIMPLEX, 0.5, (0,0,0), 1, cv2.LINE_AA)\n",
    "        cv2.putText(image, str(counter)\n",
    "                    , (175,40), cv2.FONT_HERSHEY_SIMPLEX, 1,(255,255,255), 2, cv2.LINE_AA)\n",
    "        \n",
    "        cv2.imshow('Mediapipe Feed', image)\n",
    "\n",
    "        if cv2.waitKey(10) & 0xFF == ord ('q'):\n",
    "            break\n",
    "        \n",
    "cap.release()\n",
    "cv2.destroyAllWindows()"
   ]
  },
  {
   "cell_type": "code",
   "execution_count": null,
   "id": "9be34912-0a0d-4d78-a823-48097ee3b162",
   "metadata": {},
   "outputs": [],
   "source": []
  },
  {
   "cell_type": "code",
   "execution_count": null,
   "id": "634a0301-bf76-4edb-b166-62f16eaab79d",
   "metadata": {},
   "outputs": [],
   "source": []
  }
 ],
 "metadata": {
  "kernelspec": {
   "display_name": "Python 3 (ipykernel)",
   "language": "python",
   "name": "python3"
  },
  "language_info": {
   "codemirror_mode": {
    "name": "ipython",
    "version": 3
   },
   "file_extension": ".py",
   "mimetype": "text/x-python",
   "name": "python",
   "nbconvert_exporter": "python",
   "pygments_lexer": "ipython3",
   "version": "3.9.13"
  }
 },
 "nbformat": 4,
 "nbformat_minor": 5
}

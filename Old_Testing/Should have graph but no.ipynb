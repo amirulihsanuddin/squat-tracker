{
 "cells": [
  {
   "cell_type": "code",
   "execution_count": 2,
   "id": "05947810-fb84-4cc1-9380-81c7d7fbe3b4",
   "metadata": {},
   "outputs": [
    {
     "name": "stdout",
     "output_type": "stream",
     "text": [
      "Requirement already satisfied: tqdm in c:\\users\\eddcr\\anaconda3\\lib\\site-packages (4.64.1)\n",
      "Requirement already satisfied: colorama in c:\\users\\eddcr\\anaconda3\\lib\\site-packages (from tqdm) (0.4.5)\n"
     ]
    }
   ],
   "source": [
    "!pip install tqdm"
   ]
  },
  {
   "cell_type": "code",
   "execution_count": null,
   "id": "8334380c-2fa0-4039-87fc-b5354b9580dc",
   "metadata": {},
   "outputs": [],
   "source": [
    "import pandas as pd\n",
    "from sklearn.model_selection import train_test_split\n",
    "from sklearn.pipeline import make_pipeline\n",
    "from sklearn.preprocessing import StandardScaler\n",
    "from sklearn.linear_model import LogisticRegression, RidgeClassifier\n",
    "from sklearn.ensemble import RandomForestClassifier, GradientBoostingClassifier\n",
    "from sklearn.metrics import accuracy_score, precision_score, recall_score\n",
    "from tqdm import tqdm\n",
    "import pickle"
   ]
  },
  {
   "cell_type": "code",
   "execution_count": 4,
   "id": "b4ee0154-9558-4b16-9bbd-5fd774be82cd",
   "metadata": {},
   "outputs": [],
   "source": [
    "# Load the dataset\n",
    "df = pd.read_csv('coords.csv')\n",
    "\n",
    "# Define features (x) and target variable (y)\n",
    "x = df.drop('class', axis=1)\n",
    "y = df['class']\n",
    "\n",
    "# Split the dataset into training and testing sets\n",
    "x_train, x_test, y_train, y_test = train_test_split(x, y, test_size=0.2, random_state=50)\n",
    "\n"
   ]
  },
  {
   "cell_type": "code",
   "execution_count": 5,
   "id": "7d51da5f-9332-4432-bec3-680685c46111",
   "metadata": {},
   "outputs": [],
   "source": [
    "# Define classifiers and pipelines\n",
    "pipelines = {\n",
    "    'lr': make_pipeline(StandardScaler(), LogisticRegression()),\n",
    "    'rc': make_pipeline(StandardScaler(), RidgeClassifier()),\n",
    "    'rf': make_pipeline(StandardScaler(), RandomForestClassifier()),\n",
    "    'gb': make_pipeline(StandardScaler(), GradientBoostingClassifier()),\n",
    "}"
   ]
  },
  {
   "cell_type": "code",
   "execution_count": 6,
   "id": "a459fe46-67d0-48a0-8dfe-9a5447f3b38a",
   "metadata": {},
   "outputs": [],
   "source": [
    "fit_models = {}"
   ]
  },
  {
   "cell_type": "code",
   "execution_count": 10,
   "id": "1b1fefda-c710-44be-9e1e-31df9944e2a7",
   "metadata": {},
   "outputs": [
    {
     "name": "stderr",
     "output_type": "stream",
     "text": [
      "Training progress: 100%|██████████| 4/4 [00:02<00:00,  1.52model/s]\n"
     ]
    }
   ],
   "source": [
    "# Display progress bar while training\n",
    "for algo, pipeline in tqdm(pipelines.items(), desc=\"Training progress\", unit=\"model\"):\n",
    "    model = pipeline.fit(x_train, y_train)\n",
    "    fit_models[algo] = model"
   ]
  },
  {
   "cell_type": "code",
   "execution_count": 8,
   "id": "63c25fe4-e467-4a9d-8ab6-32df6caca74a",
   "metadata": {},
   "outputs": [
    {
     "name": "stdout",
     "output_type": "stream",
     "text": [
      "lr: Accuracy=100.00%, Precision=100.00%, Recall=100.00%\n",
      "rc: Accuracy=100.00%, Precision=100.00%, Recall=100.00%\n",
      "rf: Accuracy=100.00%, Precision=100.00%, Recall=100.00%\n",
      "gb: Accuracy=100.00%, Precision=100.00%, Recall=100.00%\n"
     ]
    }
   ],
   "source": [
    "# Evaluate and display results\n",
    "for algo, model in fit_models.items():\n",
    "    yhat = model.predict(x_test)\n",
    "    accuracy = accuracy_score(y_test.values, yhat)\n",
    "    precision = precision_score(y_test.values, yhat, average=\"binary\", pos_label=\"down\")\n",
    "    recall = recall_score(y_test.values, yhat, average=\"binary\", pos_label=\"down\")\n",
    "    \n",
    "    print(f\"{algo}: Accuracy={accuracy:.2%}, Precision={precision:.2%}, Recall={recall:.2%}\")\n"
   ]
  },
  {
   "cell_type": "code",
   "execution_count": 9,
   "id": "769fe680-40e7-4f90-aef9-cca3134a1910",
   "metadata": {},
   "outputs": [],
   "source": [
    "# Save the Random Forest model\n",
    "with open('squat.pkl', 'wb') as f:\n",
    "    pickle.dump(fit_models['rf'], f)\n"
   ]
  },
  {
   "cell_type": "code",
   "execution_count": null,
   "id": "e10fc703-dffd-43bd-be20-417738d3d6b6",
   "metadata": {},
   "outputs": [],
   "source": []
  }
 ],
 "metadata": {
  "kernelspec": {
   "display_name": "Python 3 (ipykernel)",
   "language": "python",
   "name": "python3"
  },
  "language_info": {
   "codemirror_mode": {
    "name": "ipython",
    "version": 3
   },
   "file_extension": ".py",
   "mimetype": "text/x-python",
   "name": "python",
   "nbconvert_exporter": "python",
   "pygments_lexer": "ipython3",
   "version": "3.9.13"
  }
 },
 "nbformat": 4,
 "nbformat_minor": 5
}
